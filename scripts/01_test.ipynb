{
 "cells": [
  {
   "cell_type": "markdown",
   "metadata": {},
   "source": [
    "### Load Modules"
   ]
  },
  {
   "cell_type": "code",
   "execution_count": 1,
   "metadata": {},
   "outputs": [
    {
     "name": "stdout",
     "output_type": "stream",
     "text": [
      "MuJoCo:[2.3.7]\n"
     ]
    }
   ],
   "source": [
    "import sys\n",
    "sys.path.append('../')\n",
    "from package.core.mjc_parser import *\n",
    "from package.utils.util import *\n",
    "print (\"MuJoCo:[%s]\"%(mujoco.__version__))"
   ]
  },
  {
   "cell_type": "code",
   "execution_count": 2,
   "metadata": {},
   "outputs": [
    {
     "name": "stdout",
     "output_type": "stream",
     "text": [
      "name:[UR5e] dt:[0.002] HZ:[500]\n",
      "n_qpos:[68] n_qvel:[60] n_qacc:[60] n_ctrl:[7]\n",
      "\n",
      "n_body:[30]\n",
      " [0/30] [world] mass:[0.00]kg\n",
      " [1/30] [base] mass:[4.00]kg\n",
      " [2/30] [shoulder_link] mass:[3.70]kg\n",
      " [3/30] [upper_arm_link] mass:[8.39]kg\n",
      " [4/30] [forearm_link] mass:[2.27]kg\n",
      " [5/30] [wrist_1_link] mass:[1.22]kg\n",
      " [6/30] [wrist_2_link] mass:[1.22]kg\n",
      " [7/30] [wrist_3_link] mass:[0.19]kg\n",
      " [8/30] [tcp_link] mass:[0.00]kg\n",
      " [9/30] [camera_mount] mass:[0.07]kg\n",
      " [10/30] [d435i] mass:[0.07]kg\n",
      " [11/30] [rg2_gripper_base_link] mass:[0.20]kg\n",
      " [12/30] [camera_center] mass:[0.00]kg\n",
      " [13/30] [rg2_gripper_finger1_finger_link] mass:[0.01]kg\n",
      " [14/30] [rg2_gripper_finger1_inner_knuckle_link] mass:[0.01]kg\n",
      " [15/30] [rg2_gripper_finger1_finger_tip_link] mass:[0.01]kg\n",
      " [16/30] [rg2_gripper_finger2_finger_link] mass:[0.01]kg\n",
      " [17/30] [rg2_gripper_finger2_inner_knuckle_link] mass:[0.01]kg\n",
      " [18/30] [rg2_gripper_finger2_finger_tip_link] mass:[0.01]kg\n",
      " [19/30] [front_object_table] mass:[1.00]kg\n",
      " [20/30] [side_object_table] mass:[1.00]kg\n",
      " [21/30] [base_table] mass:[1.00]kg\n",
      " [22/30] [obj_cylinder_01] mass:[0.29]kg\n",
      " [23/30] [obj_cylinder_02] mass:[0.29]kg\n",
      " [24/30] [obj_cylinder_03] mass:[0.29]kg\n",
      " [25/30] [obj_cylinder_04] mass:[0.29]kg\n",
      " [26/30] [obj_cylinder_05] mass:[0.29]kg\n",
      " [27/30] [obj_cylinder_06] mass:[0.29]kg\n",
      " [28/30] [obj_cylinder_07] mass:[0.29]kg\n",
      " [29/30] [obj_cylinder_08] mass:[0.29]kg\n",
      "body_total_mass:[26.75]kg\n",
      "\n",
      "n_geom:[61]\n",
      "geom_names:['floor', None, None, None, None, None, None, None, None, None, None, None, None, None, None, None, None, None, None, None, None, None, None, None, None, None, None, None, None, None, None, None, None, None, None, None, None, None, None, None, None, None, None, None, None, None, None, None, None, None, None, None, None, None, None, None, None, None, None, None, None]\n",
      "\n",
      "n_joint:[20]\n",
      " [0/20] [shoulder_pan_joint] axis:[0. 0. 1.]\n",
      " [1/20] [shoulder_lift_joint] axis:[0. 1. 0.]\n",
      " [2/20] [elbow_joint] axis:[0. 1. 0.]\n",
      " [3/20] [wrist_1_joint] axis:[0. 1. 0.]\n",
      " [4/20] [wrist_2_joint] axis:[0. 0. 1.]\n",
      " [5/20] [wrist_3_joint] axis:[0. 1. 0.]\n",
      " [6/20] [gripper_finger1_joint] axis:[0. 1. 0.]\n",
      " [7/20] [gripper_finger1_inner_knuckle_joint] axis:[0. 1. 0.]\n",
      " [8/20] [gripper_finger1_finger_tip_joint] axis:[0. 1. 0.]\n",
      " [9/20] [gripper_finger2_joint] axis:[0. 1. 0.]\n",
      " [10/20] [gripper_finger2_inner_knuckle_joint] axis:[0. 1. 0.]\n",
      " [11/20] [gripper_finger2_finger_tip_joint] axis:[0. 1. 0.]\n",
      " [12/20] [None] axis:[0. 0. 1.]\n",
      " [13/20] [None] axis:[0. 0. 1.]\n",
      " [14/20] [None] axis:[0. 0. 1.]\n",
      " [15/20] [None] axis:[0. 0. 1.]\n",
      " [16/20] [None] axis:[0. 0. 1.]\n",
      " [17/20] [None] axis:[0. 0. 1.]\n",
      " [18/20] [None] axis:[0. 0. 1.]\n",
      " [19/20] [None] axis:[0. 0. 1.]\n",
      "\n",
      "n_dof:[60] (=number of rows of Jacobian)\n",
      " [0/60] [None] attached joint:[shoulder_pan_joint] body:[shoulder_link]\n",
      " [1/60] [None] attached joint:[shoulder_lift_joint] body:[upper_arm_link]\n",
      " [2/60] [None] attached joint:[elbow_joint] body:[forearm_link]\n",
      " [3/60] [None] attached joint:[wrist_1_joint] body:[wrist_1_link]\n",
      " [4/60] [None] attached joint:[wrist_2_joint] body:[wrist_2_link]\n",
      " [5/60] [None] attached joint:[wrist_3_joint] body:[wrist_3_link]\n",
      " [6/60] [None] attached joint:[gripper_finger1_joint] body:[rg2_gripper_finger1_finger_link]\n",
      " [7/60] [None] attached joint:[gripper_finger1_inner_knuckle_joint] body:[rg2_gripper_finger1_inner_knuckle_link]\n",
      " [8/60] [None] attached joint:[gripper_finger1_finger_tip_joint] body:[rg2_gripper_finger1_finger_tip_link]\n",
      " [9/60] [None] attached joint:[gripper_finger2_joint] body:[rg2_gripper_finger2_finger_link]\n",
      " [10/60] [None] attached joint:[gripper_finger2_inner_knuckle_joint] body:[rg2_gripper_finger2_inner_knuckle_link]\n",
      " [11/60] [None] attached joint:[gripper_finger2_finger_tip_joint] body:[rg2_gripper_finger2_finger_tip_link]\n",
      " [12/60] [None] attached joint:[None] body:[obj_cylinder_01]\n",
      " [13/60] [None] attached joint:[None] body:[obj_cylinder_01]\n",
      " [14/60] [None] attached joint:[None] body:[obj_cylinder_01]\n",
      " [15/60] [None] attached joint:[None] body:[obj_cylinder_01]\n",
      " [16/60] [None] attached joint:[None] body:[obj_cylinder_01]\n",
      " [17/60] [None] attached joint:[None] body:[obj_cylinder_01]\n",
      " [18/60] [None] attached joint:[None] body:[obj_cylinder_02]\n",
      " [19/60] [None] attached joint:[None] body:[obj_cylinder_02]\n",
      " [20/60] [None] attached joint:[None] body:[obj_cylinder_02]\n",
      " [21/60] [None] attached joint:[None] body:[obj_cylinder_02]\n",
      " [22/60] [None] attached joint:[None] body:[obj_cylinder_02]\n",
      " [23/60] [None] attached joint:[None] body:[obj_cylinder_02]\n",
      " [24/60] [None] attached joint:[None] body:[obj_cylinder_03]\n",
      " [25/60] [None] attached joint:[None] body:[obj_cylinder_03]\n",
      " [26/60] [None] attached joint:[None] body:[obj_cylinder_03]\n",
      " [27/60] [None] attached joint:[None] body:[obj_cylinder_03]\n",
      " [28/60] [None] attached joint:[None] body:[obj_cylinder_03]\n",
      " [29/60] [None] attached joint:[None] body:[obj_cylinder_03]\n",
      " [30/60] [None] attached joint:[None] body:[obj_cylinder_04]\n",
      " [31/60] [None] attached joint:[None] body:[obj_cylinder_04]\n",
      " [32/60] [None] attached joint:[None] body:[obj_cylinder_04]\n",
      " [33/60] [None] attached joint:[None] body:[obj_cylinder_04]\n",
      " [34/60] [None] attached joint:[None] body:[obj_cylinder_04]\n",
      " [35/60] [None] attached joint:[None] body:[obj_cylinder_04]\n",
      " [36/60] [None] attached joint:[None] body:[obj_cylinder_05]\n",
      " [37/60] [None] attached joint:[None] body:[obj_cylinder_05]\n",
      " [38/60] [None] attached joint:[None] body:[obj_cylinder_05]\n",
      " [39/60] [None] attached joint:[None] body:[obj_cylinder_05]\n",
      " [40/60] [None] attached joint:[None] body:[obj_cylinder_05]\n",
      " [41/60] [None] attached joint:[None] body:[obj_cylinder_05]\n",
      " [42/60] [None] attached joint:[None] body:[obj_cylinder_06]\n",
      " [43/60] [None] attached joint:[None] body:[obj_cylinder_06]\n",
      " [44/60] [None] attached joint:[None] body:[obj_cylinder_06]\n",
      " [45/60] [None] attached joint:[None] body:[obj_cylinder_06]\n",
      " [46/60] [None] attached joint:[None] body:[obj_cylinder_06]\n",
      " [47/60] [None] attached joint:[None] body:[obj_cylinder_06]\n",
      " [48/60] [None] attached joint:[None] body:[obj_cylinder_07]\n",
      " [49/60] [None] attached joint:[None] body:[obj_cylinder_07]\n",
      " [50/60] [None] attached joint:[None] body:[obj_cylinder_07]\n",
      " [51/60] [None] attached joint:[None] body:[obj_cylinder_07]\n",
      " [52/60] [None] attached joint:[None] body:[obj_cylinder_07]\n",
      " [53/60] [None] attached joint:[None] body:[obj_cylinder_07]\n",
      " [54/60] [None] attached joint:[None] body:[obj_cylinder_08]\n",
      " [55/60] [None] attached joint:[None] body:[obj_cylinder_08]\n",
      " [56/60] [None] attached joint:[None] body:[obj_cylinder_08]\n",
      " [57/60] [None] attached joint:[None] body:[obj_cylinder_08]\n",
      " [58/60] [None] attached joint:[None] body:[obj_cylinder_08]\n",
      " [59/60] [None] attached joint:[None] body:[obj_cylinder_08]\n",
      "\n",
      "Free joint information. n_free_joint:[8]\n",
      " [0/8] [None] body_name_attached:[obj_cylinder_01]\n",
      " [1/8] [None] body_name_attached:[obj_cylinder_02]\n",
      " [2/8] [None] body_name_attached:[obj_cylinder_03]\n",
      " [3/8] [None] body_name_attached:[obj_cylinder_04]\n",
      " [4/8] [None] body_name_attached:[obj_cylinder_05]\n",
      " [5/8] [None] body_name_attached:[obj_cylinder_06]\n",
      " [6/8] [None] body_name_attached:[obj_cylinder_07]\n",
      " [7/8] [None] body_name_attached:[obj_cylinder_08]\n",
      "\n",
      "Revolute joint information. n_rev_joint:[12]\n",
      " [0/12] [shoulder_pan_joint] range:[-6.283]~[6.283]\n",
      " [1/12] [shoulder_lift_joint] range:[-6.283]~[6.283]\n",
      " [2/12] [elbow_joint] range:[-3.142]~[3.142]\n",
      " [3/12] [wrist_1_joint] range:[-6.283]~[6.283]\n",
      " [4/12] [wrist_2_joint] range:[-6.283]~[6.283]\n",
      " [5/12] [wrist_3_joint] range:[-6.283]~[6.283]\n",
      " [6/12] [gripper_finger1_joint] range:[-1.000]~[0.000]\n",
      " [7/12] [gripper_finger1_inner_knuckle_joint] range:[-1.000]~[0.000]\n",
      " [8/12] [gripper_finger1_finger_tip_joint] range:[-1.000]~[1.000]\n",
      " [9/12] [gripper_finger2_joint] range:[0.000]~[1.000]\n",
      " [10/12] [gripper_finger2_inner_knuckle_joint] range:[0.000]~[1.000]\n",
      " [11/12] [gripper_finger2_finger_tip_joint] range:[-1.000]~[1.000]\n",
      "\n",
      "Prismatic joint information. n_pri_joint:[0]\n",
      "\n",
      "Control information. n_ctrl:[7]\n",
      " [0/7] [shoulder_pan] range:[-6.283]~[6.283] gear:[1.00] type:[JOINT]\n",
      " [1/7] [shoulder_lift] range:[-6.283]~[6.283] gear:[1.00] type:[JOINT]\n",
      " [2/7] [elbow] range:[-3.142]~[3.142] gear:[1.00] type:[JOINT]\n",
      " [3/7] [wrist_1] range:[-6.283]~[6.283] gear:[1.00] type:[JOINT]\n",
      " [4/7] [wrist_2] range:[-6.283]~[6.283] gear:[1.00] type:[JOINT]\n",
      " [5/7] [wrist_3] range:[-6.283]~[6.283] gear:[1.00] type:[JOINT]\n",
      " [6/7] [gripper] range:[0.000]~[1.000] gear:[1.00] type:[JOINT]\n",
      "\n",
      "n_sensor:[0]\n",
      "sensor_names:[]\n",
      "n_site:[1]\n",
      "site_names:['attachment_site']\n"
     ]
    }
   ],
   "source": [
    "xml_path = '../asset/scene/scene_ur5e_rg2_d435i_obj.xml'\n",
    "env = MuJoCoParserClass(name='UR5e',rel_xml_path=xml_path,verbose=True)"
   ]
  },
  {
   "cell_type": "code",
   "execution_count": 3,
   "metadata": {},
   "outputs": [
    {
     "name": "stdout",
     "output_type": "stream",
     "text": [
      "Done.\n"
     ]
    },
    {
     "name": "stderr",
     "output_type": "stream",
     "text": [
      "2025-06-22 21:54:28.159 python[89911:8967504] TSM AdjustCapsLockLEDForKeyTransitionHandling - _ISSetPhysicalKeyboardCapsLockLED Inhibit\n"
     ]
    }
   ],
   "source": [
    "env.reset(step=True)\n",
    "env.init_viewer()\n",
    "while env.is_viewer_alive():\n",
    "    env.step()\n",
    "    env.render()\n",
    "print (\"Done.\")"
   ]
  },
  {
   "cell_type": "code",
   "execution_count": null,
   "metadata": {},
   "outputs": [],
   "source": []
  }
 ],
 "metadata": {
  "kernelspec": {
   "display_name": "atlo",
   "language": "python",
   "name": "python3"
  },
  "language_info": {
   "codemirror_mode": {
    "name": "ipython",
    "version": 3
   },
   "file_extension": ".py",
   "mimetype": "text/x-python",
   "name": "python",
   "nbconvert_exporter": "python",
   "pygments_lexer": "ipython3",
   "version": "3.10.5"
  }
 },
 "nbformat": 4,
 "nbformat_minor": 2
}
